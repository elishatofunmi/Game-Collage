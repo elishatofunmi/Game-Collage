{
 "cells": [
  {
   "cell_type": "code",
   "execution_count": null,
   "metadata": {},
   "outputs": [],
   "source": []
  },
  {
   "cell_type": "code",
   "execution_count": 2,
   "metadata": {},
   "outputs": [],
   "source": [
    "import numpy as np\n",
    "\n",
    "\n",
    "class Network:\n",
    "    def __init__(self, xmin, xmax, ymin, ymax):\n",
    "        \"\"\"\n",
    "        xmin: 150,\n",
    "        xmax: 450, \n",
    "        ymin: 100, \n",
    "        ymax: 600\n",
    "        \"\"\"\n",
    "        \n",
    "        self.StaticDiscipline = {\n",
    "            'xmin': xmin, \n",
    "            'xmax': xmax, \n",
    "            'ymin': ymin, \n",
    "            'ymax': ymax\n",
    "        }\n",
    "\n",
    "    def network(self, xsource, ysource = 100, Ynew = 600, divisor = 50): #ysource will always be 100\n",
    "        \"\"\"\n",
    "        For Network A\n",
    "        ysource: will always be 100\n",
    "        xsource: will always be between xmin and xmax (static discipline)\n",
    "        \n",
    "        For Network B\n",
    "        ysource: will always be 600\n",
    "        xsource: will always be between xmin and xmax (static discipline)\n",
    "        \"\"\"\n",
    "        \n",
    "        while True:\n",
    "            ListOfXsourceYSource = []\n",
    "            Xnew = np.random.choice([i for i in range(self.StaticDiscipline['xmin'], self.StaticDiscipline['xmax'])], 1)\n",
    "            #Ynew = np.random.choice([i for i in range(self.StaticDiscipline['ymin'], self.StaticDiscipline['ymax'])], 1)\n",
    "\n",
    "            source = (xsource, ysource)\n",
    "            target = (Xnew[0], Ynew)\n",
    "\n",
    "            #Slope and intercept\n",
    "            slope = (ysource - Ynew)/(xsource - Xnew[0])\n",
    "            intercept = ysource - (slope*xsource)\n",
    "            if (slope != np.inf) and (intercept != np.inf):\n",
    "                break\n",
    "            else:\n",
    "                continue\n",
    "                \n",
    "        #print(source, target)\n",
    "        # randomly select 50 new values along the slope between xsource and xnew (monotonically decreasing/increasing)\n",
    "        XNewList = [xsource]\n",
    "\n",
    "        if xsource < Xnew:\n",
    "            differences = Xnew[0] - xsource\n",
    "            increment = differences /divisor\n",
    "            newXval = xsource\n",
    "            for i in range(divisor):\n",
    "\n",
    "                newXval += increment\n",
    "                XNewList.append(int(newXval))\n",
    "        else:\n",
    "            differences = xsource - Xnew[0]\n",
    "            decrement = differences /divisor\n",
    "            newXval = xsource\n",
    "            for i in range(divisor):\n",
    "\n",
    "                newXval -= decrement\n",
    "                XNewList.append(int(newXval))\n",
    "                \n",
    "\n",
    "        #determine the values of y, from the new values of x, using y= mx + c\n",
    "        yNewList = []\n",
    "        for i in XNewList:\n",
    "            findy = (slope * i) + intercept#y = mx + c\n",
    "            yNewList.append(int(findy))\n",
    "\n",
    "        ListOfXsourceYSource = [(x, y) for x, y in zip(XNewList, yNewList)]\n",
    "\n",
    "        return XNewList, yNewList\n",
    "    \n",
    "\n",
    "    \n",
    "   "
   ]
  },
  {
   "cell_type": "code",
   "execution_count": 3,
   "metadata": {},
   "outputs": [],
   "source": [
    "# Testing\n",
    "net = Network(150,450,100,600)\n",
    "NetworkA = net.network(300, ysource = 100, Ynew = 600) #Network A\n",
    "NetworkB = net.network(200, ysource = 600, Ynew = 100) #Network B\n",
    "#NetworkA"
   ]
  },
  {
   "cell_type": "code",
   "execution_count": null,
   "metadata": {},
   "outputs": [],
   "source": [
    "import seaborn as sns\n",
    "sns.jointplot(NetworkA[0], NetworkA[1])"
   ]
  },
  {
   "cell_type": "code",
   "execution_count": 5,
   "metadata": {},
   "outputs": [
    {
     "data": {
      "text/plain": [
       "<seaborn.axisgrid.JointGrid at 0x7fa4ae261e80>"
      ]
     },
     "execution_count": 5,
     "metadata": {},
     "output_type": "execute_result"
    },
    {
     "data": {
      "image/png": "[encoded data removed]",
      "text/plain": [
       "<Figure size 432x432 with 3 Axes>"
      ]
     },
     "metadata": {
      "needs_background": "light"
     },
     "output_type": "display_data"
    }
   ],
   "source": [
    "sns.jointplot(NetworkB[0], NetworkB[1])"
   ]
  },
  {
   "cell_type": "code",
   "execution_count": 6,
   "metadata": {},
   "outputs": [],
   "source": [
    "#NetworkB"
   ]
  },
  {
   "cell_type": "code",
   "execution_count": 7,
   "metadata": {},
   "outputs": [
    {
     "name": "stdout",
     "output_type": "stream",
     "text": [
      "[251, 252, 253, 254, 255, 256, 257, 258, 259, 260, 261, 262, 263, 264, 265, 266, 267, 268, 269, 270, 271, 272, 273, 274, 275, 276, 277, 278, 279, 280, 281, 282, 283, 284, 285, 286, 287, 288, 289, 290, 291, 292, 293, 294, 295, 296, 297, 298, 299, 300]\n"
     ]
    }
   ],
   "source": [
    "DefaultPositionA = 300\n",
    "DefaultPositionB = 300\n",
    "\n",
    "def DefaultToPosition(x1, x2 = 300, divisor = 50):\n",
    "    XNewList = []\n",
    "    if x1 < x2:\n",
    "        differences = x2 - x1\n",
    "        increment = differences /divisor\n",
    "        newXval = x1\n",
    "        for i in range(divisor):\n",
    "            newXval += increment\n",
    "            XNewList.append(int(np.floor(newXval)))\n",
    "            \n",
    "    else:\n",
    "        differences = x1 - x2\n",
    "        decrement = differences /divisor\n",
    "        newXval = x1\n",
    "        for i in range(divisor):\n",
    "            newXval -= decrement\n",
    "            XNewList.append(int(np.floor(newXval)))\n",
    "    return XNewList\n",
    "            \n",
    "            \n",
    "out = DefaultToPosition(250)\n",
    "print(out)"
   ]
  },
  {
   "cell_type": "code",
   "execution_count": 8,
   "metadata": {},
   "outputs": [
    {
     "name": "stdout",
     "output_type": "stream",
     "text": [
      "251 300 100\n"
     ]
    }
   ],
   "source": [
    "j, x, y = next(zip(out, NetworkA[0], NetworkA[1]))\n",
    "print(j, x, y)"
   ]
  },
  {
   "cell_type": "code",
   "execution_count": 11,
   "metadata": {},
   "outputs": [
    {
     "ename": "SystemExit",
     "evalue": "",
     "output_type": "error",
     "traceback": [
      "An exception has occurred, use %tb to see the full traceback.\n",
      "\u001b[0;31mSystemExit\u001b[0m\n"
     ]
    },
    {
     "name": "stderr",
     "output_type": "stream",
     "text": [
      "/home/qwerty/anaconda3/lib/python3.7/site-packages/IPython/core/interactiveshell.py:2890: UserWarning: To exit: use 'exit', 'quit', or Ctrl-D.\n",
      "  warn(\"To exit: use 'exit', 'quit', or Ctrl-D.\", stacklevel=1)\n"
     ]
    }
   ],
   "source": [
    "import pygame, sys\n",
    "from pygame.locals import *\n",
    "pygame.init()\n",
    "import time\n",
    "\n",
    "FPS = 50\n",
    "fpsClock = pygame.time.Clock()\n",
    "\n",
    "# set up the window\n",
    "DISPLAYSURF = pygame.display.set_mode((600, 700), 0, 32)\n",
    "pygame.display.set_caption('REINFORCEMENT LEARNING (Discrete Mathematics) - TABLE TENNIS')\n",
    "# set up the colors\n",
    "BLACK = ( 0,0,0)\n",
    "WHITE = (255, 255, 255)\n",
    "RED= (255,0,0)\n",
    "GREEN = ( 0, 255,0)\n",
    "BLUE = ( 0,0, 255)\n",
    "\n",
    "# draw on the surface object\n",
    "def display():\n",
    "    DISPLAYSURF.fill(WHITE)\n",
    "    pygame.draw.rect(DISPLAYSURF, GREEN, (150, 100, 300, 500))\n",
    "    pygame.draw.rect(DISPLAYSURF, RED, (150, 340, 300, 20))\n",
    "    pygame.draw.rect(DISPLAYSURF, BLACK, (0, 20, 600, 20))\n",
    "    pygame.draw.rect(DISPLAYSURF, BLACK, (0, 660, 600, 20))\n",
    "    return\n",
    "\n",
    "# pixObj = pygame.PixelArray(DISPLAYSURF)\n",
    "# del pixObj\n",
    "\n",
    "\n",
    "PLAYERA = pygame.image.load('images/cap.jpg')\n",
    "PLAYERA = pygame.transform.scale(PLAYERA, (50, 50))\n",
    "PLAYERB = pygame.image.load('images/cap.jpg')\n",
    "PLAYERB = pygame.transform.scale(PLAYERB, (50, 50))\n",
    "ball = pygame.image.load('images/ball.png')\n",
    "ball = pygame.transform.scale(ball, (15, 15))\n",
    "\n",
    "playerax = 150\n",
    "playerbx = 250\n",
    "directionA = 'right'\n",
    "directionB = 'right'\n",
    "ballDirection = 'top'\n",
    "ballx = 250\n",
    "bally = 300\n",
    "\n",
    "\n",
    "\n",
    "nextplayer = 'A'\n",
    "lastxcoordinate = 350\n",
    "count = 0\n",
    "while True:\n",
    "    display()\n",
    "    if nextplayer == 'A':\n",
    "        #playerA should play\n",
    "        if count == 0:\n",
    "            #playerax = lastxcoordinate\n",
    "            NetworkA = net.network(lastxcoordinate, ysource = 100, Ynew = 600) #Network A\n",
    "            out = DefaultToPosition(lastxcoordinate)\n",
    "            \n",
    "            #update lastxcoordinate\n",
    "            \n",
    "            bally = NetworkA[1][count]\n",
    "            playerax = ballx\n",
    "            count += 1\n",
    "#             soundObj = pygame.mixer.Sound('sound/sound.wav')\n",
    "#             soundObj.play()\n",
    "#             time.sleep(0.4)\n",
    "#             soundObj.stop()\n",
    "        else:\n",
    "            ballx = NetworkA[0][count]\n",
    "            bally = NetworkA[1][count]\n",
    "            playerbx = ballx\n",
    "            playerax = out[count]\n",
    "            count += 1\n",
    "        \n",
    "        #let playerB play after 50 new coordinate of ball movement\n",
    "        if count == 49:\n",
    "            count = 0\n",
    "            nextplayer = 'B'\n",
    "        else:\n",
    "            nextplayer = 'A'\n",
    "            \n",
    "\n",
    "            \n",
    "        \n",
    "        \n",
    "    else:\n",
    "        #playerB can play\n",
    "        if count == 0:\n",
    "            #playerbx = lastxcoordinate\n",
    "            NetworkB = net.network(lastxcoordinate, ysource = 600, Ynew = 100) #Network B\n",
    "            out = DefaultToPosition(lastxcoordinate)\n",
    "            \n",
    "            #update lastxcoordinate\n",
    "            bally = NetworkB[1][count]\n",
    "            playerbx = ballx\n",
    "            count += 1\n",
    "            \n",
    "#             soundObj = pygame.mixer.Sound('sound/sound.wav')\n",
    "#             soundObj.play()\n",
    "#             time.sleep(0.4)\n",
    "#             soundObj.stop()\n",
    "        else:\n",
    "            ballx = NetworkB[0][count]\n",
    "            bally = NetworkB[1][count]\n",
    "            playerbx = out[count]\n",
    "            playerax = ballx\n",
    "            count += 1\n",
    "        #update lastxcoordinate\n",
    "        \n",
    "        #let playerA play after 50 new coordinate of ball movement\n",
    "        if count == 49:\n",
    "            count = 0\n",
    "            nextplayer = 'A'\n",
    "        else:\n",
    "            nextplayer = 'B'\n",
    "    \n",
    "        \n",
    "        \n",
    "            \n",
    "    #CHECK BALL MOVEMENT\n",
    "    DISPLAYSURF.blit(PLAYERA, (playerax, 50))\n",
    "    DISPLAYSURF.blit(PLAYERB, (playerbx, 600))\n",
    "    DISPLAYSURF.blit(ball, (ballx, bally))\n",
    "    \n",
    "    #update last coordinate\n",
    "    lastxcoordinate = ballx \n",
    "    \n",
    "\n",
    "\n",
    "    pygame.display.update()\n",
    "    fpsClock.tick(FPS)\n",
    "    \n",
    "    for event in pygame.event.get():\n",
    "\n",
    "        if event.type == QUIT:\n",
    "            pygame.quit()\n",
    "            sys.exit()\n",
    "    \n",
    "            \n",
    "        \n",
    "        \n",
    "        \n",
    "            \n",
    "            \n",
    "    "
   ]
  },
  {
   "cell_type": "code",
   "execution_count": null,
   "metadata": {},
   "outputs": [],
   "source": []
  }
 ],
 "metadata": {
  "kernelspec": {
   "display_name": "Python 3",
   "language": "python",
   "name": "python3"
  },
  "language_info": {
   "codemirror_mode": {
    "name": "ipython",
    "version": 3
   },
   "file_extension": ".py",
   "mimetype": "text/x-python",
   "name": "python",
   "nbconvert_exporter": "python",
   "pygments_lexer": "ipython3",
   "version": "3.7.3"
  }
 },
 "nbformat": 4,
 "nbformat_minor": 4
}
